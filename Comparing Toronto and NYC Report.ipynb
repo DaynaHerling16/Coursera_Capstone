{
    "nbformat_minor": 1, 
    "cells": [
        {
            "source": "# Introduction/Business Problem", 
            "cell_type": "markdown", 
            "metadata": {
                "collapsed": true
            }
        }, 
        {
            "source": "One problem faced by people moving to a new city is determining which neighborhood in the new city they would like to live in. If someone has never lived in a city or never even visited a new city, it can be very difficult for the person to determine where they would enjoy living. Also, it is even that much more difficult for real estate agents to help a prospective client figure out which location they would like to live in because the people moving have probably just met the real estate agent, so even though a real estate agent may know the area, it can be difficult for them to determine which areas a client would like because of not having a good understanding of their preferences. Having a tool that can map which neighborhood in one city, either the neighborhood the person enjoyed living in in their old city, or the neighborhood they always wanted to live in their old city or a city they're familiar with, to similar neighborhoods in a new city could be a very valuable tool for both anyone moving to a new city and real estate agents.", 
            "cell_type": "markdown", 
            "metadata": {}
        }, 
        {
            "execution_count": null, 
            "cell_type": "code", 
            "metadata": {}, 
            "outputs": [], 
            "source": ""
        }, 
        {
            "source": "# Data", 
            "cell_type": "markdown", 
            "metadata": {}
        }, 
        {
            "source": "The data I used was from past labs in this Capstone course. I used both the newyork_json data and copied all the Toronto data from the wikipedia page and put it into an excel sheet. I then used IBM Watson Studio to export the data into my notebook. I also used Foursquare location data to bring in or \"get\" the venues located in each neighborhhood for both Toronto and NYC. From there, I analyzed the data and found the top 5 most similar NYC neighborhoods for each Toronto neighborhood given the venues in each neighborhood.", 
            "cell_type": "markdown", 
            "metadata": {}
        }, 
        {
            "execution_count": null, 
            "cell_type": "code", 
            "metadata": {}, 
            "outputs": [], 
            "source": ""
        }, 
        {
            "source": "# Methodology", 
            "cell_type": "markdown", 
            "metadata": {}
        }, 
        {
            "source": "I first decided the cities I would use for my moving from city and moving to city, which in this case is Toronto and New York City, respectivley. However, this algorithm can very easily be changed to any two cities from around the world to move from and to using the Foursquare location data. Just changing the variable \"address\" to any city and it's 2 letter country code will achieve this in the algorithm. After gathering the data into a dataframe for each neighborhood in a city, including it's venue, cateogry, and geo locational data, I then compiled all of them together into one dataframe. Then, I used one-hot encoding of the venue cateogry to get all of the venues cateogories into a matrix with a 1 to denote that a venue was a category and a 0 to denote it wasn't. I then added the neighborhood category into this new dataframe and grouped by neighborhood to get all of the venues that are in a neighborhood to be listed as such. I did this for both Toronto, my city I'm moving from in the example, and NYC, the city I'm moving to. From there, I analysed the data to determine all the neighborhoods in NYC that had similar top 5 venues to the top 5 venues of each Toronto neighborhood. I created a list of all the NYC neighborhoods mapping to each Toronto neighborhood in descending order and then included the top 5 most similar NYC neighborhoods to be listed with each Toronto neighborhood. \n\nI then also broke the new city down into 15 clusters with a list that shows which cluster each neighborhood is in, grouped by cluster than borough, along with a color coded map. This is so if there are not many very similar neighborhoods (4+ matches), a person can find the most similar ranked new neighborhood to the old neighborhood and find other neighborhoods that are similar to the new most similar neighborhood. This is just to give more options and another alternative to finding similar neighborhoods because a person looking for a new neighborhood might care about certain things more than others being in a neighborhood, not just how similar it is to the old one, and using the clustering list, they can find which neighborhoods are also similar to the top ranked one and what are the most common venues in each of those neighborhoods.", 
            "cell_type": "markdown", 
            "metadata": {}
        }, 
        {
            "execution_count": null, 
            "cell_type": "code", 
            "metadata": {}, 
            "outputs": [], 
            "source": ""
        }, 
        {
            "source": "# Results", 
            "cell_type": "markdown", 
            "metadata": {}
        }, 
        {
            "source": "Using the approach described above, I was able to get the 5 most similar neighborhoods in a new city to the neighborhood in the old city the person is moving from or likes from their old city. These results are ranked in order from most similar to least similar of the potential new neighborhoods for the new city to the old neighborhood of the old city. This algorithm can be used for any cities that are in the Foursquare app. \n\nThe algorithm also includes the common venues among the old neighborhood and new similar neighborhoods and could fairly easily be included in the output of the program as well.\n\nAlso, the approach does show the clusters of each new neighborhood so it would be very easy for someone to identify more similar neighborhood options with the list of similar neighborhoods that are all in the same cluster as the new simliar neighborhoods. This is also a good option to have in case the 5 most similar neighborhoods to the old neighborhood in question are either too expensive, too dangerous or even too far from the person's new job.", 
            "cell_type": "markdown", 
            "metadata": {}
        }, 
        {
            "execution_count": null, 
            "cell_type": "code", 
            "metadata": {}, 
            "outputs": [], 
            "source": ""
        }, 
        {
            "source": "# Discussion", 
            "cell_type": "markdown", 
            "metadata": {}
        }, 
        {
            "source": "I noticed that in the example I chose, moving from Toronto to NYC, that some of the neighborhoods in one city didn't match another's very well. This makes sense especially when comparing international cities against each other because they really do offer very different things and atmospheres most of the time. For instance, NYC has hundres of pizza places, whereas Toronto only has a few. In Toronto, many of the neighborhoods had lots of coffee shops and cafes but in New York this wasn't the case. Therefore, finding similar neighborhoods between some cities may be quite difficult when the two cities are extremely dissimilar because there may be some neighobrhoods in a city that truly are extremely dissimilar or near opposite to all of the neighborhoods in the other city of interest.\n\nHowever, I did notice that for neighborhoods that did have highly similar neighborhoods in the new city of interest, these recommendations actually were very spot on given my knowledge of the neighborhoods in both NYC and Toronto. ", 
            "cell_type": "markdown", 
            "metadata": {}
        }, 
        {
            "execution_count": null, 
            "cell_type": "code", 
            "metadata": {}, 
            "outputs": [], 
            "source": ""
        }, 
        {
            "source": "# Conclusion", 
            "cell_type": "markdown", 
            "metadata": {}
        }, 
        {
            "source": "I think this algorithm and approach did accomplish what I had intended, to match neighborhoods from an old city, or one a person knows well and likes, to ones in a new city they are unfamiliar with. This was accomplished using the Foursquare location data, one-hot encoding, and clustering among other various computer This is so that they can narrow down their search of where to find an apartment or house and cut down their search from 306 neighborhoods (in NYC's case) to only 5 or maybe 10-15 if the person uses the similar clustered new neighborhoods.\n\n", 
            "cell_type": "markdown", 
            "metadata": {}
        }
    ], 
    "metadata": {
        "kernelspec": {
            "display_name": "Python 3.6", 
            "name": "python3", 
            "language": "python"
        }, 
        "language_info": {
            "mimetype": "text/x-python", 
            "nbconvert_exporter": "python", 
            "version": "3.6.8", 
            "name": "python", 
            "file_extension": ".py", 
            "pygments_lexer": "ipython3", 
            "codemirror_mode": {
                "version": 3, 
                "name": "ipython"
            }
        }
    }, 
    "nbformat": 4
}